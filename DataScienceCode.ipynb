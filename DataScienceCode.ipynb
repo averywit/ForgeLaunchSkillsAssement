{
 "cells": [
  {
   "cell_type": "code",
   "execution_count": 28,
   "id": "fccdefc6",
   "metadata": {},
   "outputs": [],
   "source": [
    "# Avery Witherow (adw5nej)\n",
    "# Data Science Challenge - [ADW]\n",
    "# Packages used for project\n",
    "\n",
    "# Utilizing os to provide multi-system coverage in accessing data\n",
    "import os\n",
    "# Utilizing pandas to read in the data and format into a dataframe\n",
    "import pandas as pd\n",
    "# Utilizing numpy to modify categories unwanted in array\n",
    "import numpy as np\n",
    "# Utilizing matplotlib to display the data on a graph to tell a story\n",
    "import matplotlib.pyplot as plotter"
   ]
  },
  {
   "cell_type": "code",
   "execution_count": 29,
   "id": "42403e93-bf7a-469b-a2a6-dbc1c8fb4d16",
   "metadata": {},
   "outputs": [
    {
     "data": {
      "text/plain": [
       "['title', 'url', 'fb_engagement', 'published_date', 'category', 'source']"
      ]
     },
     "execution_count": 29,
     "metadata": {},
     "output_type": "execute_result"
    }
   ],
   "source": [
    "# Dataset retrieved: BuzzFeedNews (2018-12-fake-news-top-50)\n",
    "# Link to dataset: https://github.com/BuzzFeedNews/2018-12-fake-news-top-50/blob/master/data/top_2018.csv\n",
    "\n",
    "# Creating the path to the chosen dataset\n",
    "path = os.path.abspath(\"DEPENDENCIES/top_2018.csv\")\n",
    "data = pd.read_csv(path)\n",
    "\n",
    "# Cleaning the data utilized in project\n",
    "# Converting the strings to whole integers\n",
    "data['fb_engagement'] = data['fb_engagement'].str.replace(\",\",\"\").astype(float)\n",
    "data['fb_engagement'] = data['fb_engagement'].astype(int)\n",
    "# Stripping whitespace and emojis\n",
    "data['category'] = data['category'].str.replace(\"❌\",\"\")\n",
    "data['category'] = data['category'].str.strip()\n",
    "# Moving sources to correct column (merged 'Category' and 'Source' cells in original dataset if no category)\n",
    "data['source'] = data['source'].fillna(data['category'])\n",
    "data['source'] = data['source'].str.replace(\"Crime|Politics|Medical|Music|Sports|Business\", \"NaN\", regex=True)\n",
    "# Removing authors from 'Category' after moving to correct column 'Source'\n",
    "notcategories = data.loc[data['category'].str.fullmatch(\"Crime|Politics|Medical|Music|Sports|Business\", case = True) == False]['category'].unique()\n",
    "for x in notcategories:\n",
    "    data['category'] = data['category'].str.replace(str(x), \"NaN\", regex=False)\n",
    "\n",
    "# Columns of the raw dataframe (for reference)\n",
    "list(data.columns)"
   ]
  },
  {
   "cell_type": "code",
   "execution_count": 30,
   "id": "c707c9fb",
   "metadata": {
    "scrolled": false
   },
   "outputs": [
    {
     "data": {
      "text/html": [
       "<div>\n",
       "<style scoped>\n",
       "    .dataframe tbody tr th:only-of-type {\n",
       "        vertical-align: middle;\n",
       "    }\n",
       "\n",
       "    .dataframe tbody tr th {\n",
       "        vertical-align: top;\n",
       "    }\n",
       "\n",
       "    .dataframe thead th {\n",
       "        text-align: right;\n",
       "    }\n",
       "</style>\n",
       "<table border=\"1\" class=\"dataframe\">\n",
       "  <thead>\n",
       "    <tr style=\"text-align: right;\">\n",
       "      <th></th>\n",
       "      <th>num_articles</th>\n",
       "    </tr>\n",
       "    <tr>\n",
       "      <th>published_date</th>\n",
       "      <th></th>\n",
       "    </tr>\n",
       "  </thead>\n",
       "  <tbody>\n",
       "    <tr>\n",
       "      <th>2018-07-31</th>\n",
       "      <td>1804</td>\n",
       "    </tr>\n",
       "    <tr>\n",
       "      <th>2018-08-31</th>\n",
       "      <td>1493</td>\n",
       "    </tr>\n",
       "    <tr>\n",
       "      <th>2018-10-31</th>\n",
       "      <td>1475</td>\n",
       "    </tr>\n",
       "    <tr>\n",
       "      <th>2018-11-30</th>\n",
       "      <td>1362</td>\n",
       "    </tr>\n",
       "    <tr>\n",
       "      <th>2018-09-30</th>\n",
       "      <td>1263</td>\n",
       "    </tr>\n",
       "  </tbody>\n",
       "</table>\n",
       "</div>"
      ],
      "text/plain": [
       "                num_articles\n",
       "published_date              \n",
       "2018-07-31              1804\n",
       "2018-08-31              1493\n",
       "2018-10-31              1475\n",
       "2018-11-30              1362\n",
       "2018-09-30              1263"
      ]
     },
     "execution_count": 30,
     "metadata": {},
     "output_type": "execute_result"
    },
    {
     "data": {
      "image/png": "[encoded data removed]",
      "text/plain": [
       "<Figure size 432x288 with 1 Axes>"
      ]
     },
     "metadata": {
      "needs_background": "light"
     },
     "output_type": "display_data"
    }
   ],
   "source": [
    "# Top 5 months of disinformation spreading (2018)\n",
    "\n",
    "# Resampling the data to measure number of articles by ascending date\n",
    "data['published_date'] = pd.to_datetime(data['published_date'])\n",
    "df1 = data.set_index('published_date')['title'].resample('M').size()\n",
    "\n",
    "# Plotting the data by ascending date before sorting it\n",
    "plotter.title(\"2018 Disinformation Plot (Articles)\")\n",
    "plotter.xlabel(\"Date/Month\")\n",
    "plotter.ylabel(\"Number of Articles\")\n",
    "plotter.plot(df1)\n",
    "\n",
    "# Sorting the data by descending amount of articles\n",
    "final1 = df1.sort_values(ascending=False).to_frame().head(5)\n",
    "final1.columns = ['num_articles']\n",
    "final1.head(5)"
   ]
  },
  {
   "cell_type": "code",
   "execution_count": 31,
   "id": "3f6b84e1",
   "metadata": {},
   "outputs": [
    {
     "data": {
      "text/html": [
       "<div>\n",
       "<style scoped>\n",
       "    .dataframe tbody tr th:only-of-type {\n",
       "        vertical-align: middle;\n",
       "    }\n",
       "\n",
       "    .dataframe tbody tr th {\n",
       "        vertical-align: top;\n",
       "    }\n",
       "\n",
       "    .dataframe thead th {\n",
       "        text-align: right;\n",
       "    }\n",
       "</style>\n",
       "<table border=\"1\" class=\"dataframe\">\n",
       "  <thead>\n",
       "    <tr style=\"text-align: right;\">\n",
       "      <th></th>\n",
       "      <th>num_engagements</th>\n",
       "    </tr>\n",
       "    <tr>\n",
       "      <th>published_date</th>\n",
       "      <th></th>\n",
       "    </tr>\n",
       "  </thead>\n",
       "  <tbody>\n",
       "    <tr>\n",
       "      <th>2018-05-31</th>\n",
       "      <td>7215712</td>\n",
       "    </tr>\n",
       "    <tr>\n",
       "      <th>2018-04-30</th>\n",
       "      <td>5511081</td>\n",
       "    </tr>\n",
       "    <tr>\n",
       "      <th>2018-07-31</th>\n",
       "      <td>4835636</td>\n",
       "    </tr>\n",
       "    <tr>\n",
       "      <th>2018-09-30</th>\n",
       "      <td>4798592</td>\n",
       "    </tr>\n",
       "    <tr>\n",
       "      <th>2018-06-30</th>\n",
       "      <td>3879637</td>\n",
       "    </tr>\n",
       "  </tbody>\n",
       "</table>\n",
       "</div>"
      ],
      "text/plain": [
       "                num_engagements\n",
       "published_date                 \n",
       "2018-05-31              7215712\n",
       "2018-04-30              5511081\n",
       "2018-07-31              4835636\n",
       "2018-09-30              4798592\n",
       "2018-06-30              3879637"
      ]
     },
     "execution_count": 31,
     "metadata": {},
     "output_type": "execute_result"
    },
    {
     "data": {
      "image/png": "[encoded data removed]",
      "text/plain": [
       "<Figure size 432x288 with 1 Axes>"
      ]
     },
     "metadata": {
      "needs_background": "light"
     },
     "output_type": "display_data"
    }
   ],
   "source": [
    "# Resampling the data to measure number of articles by ascending date\n",
    "df2 = data.set_index('published_date')['fb_engagement'].resample('M').sum()\n",
    "\n",
    "# Plotting the data by ascending date before sorting it\n",
    "plotter.title(\"2018 Disinformation Plot (Engagement)\")\n",
    "plotter.xlabel(\"Date/Month\")\n",
    "plotter.ylabel(\"Number of Engagements (Millions)\")\n",
    "plotter.plot(df2)\n",
    "\n",
    "# Sorting the data by descending amount of engagement\n",
    "final2 = df2.sort_values(ascending=False).to_frame().head(5)\n",
    "final2.columns = ['num_engagements']\n",
    "final2.head(5)"
   ]
  },
  {
   "cell_type": "code",
   "execution_count": 32,
   "id": "375a8cc2",
   "metadata": {},
   "outputs": [
    {
     "data": {
      "text/html": [
       "<div>\n",
       "<style scoped>\n",
       "    .dataframe tbody tr th:only-of-type {\n",
       "        vertical-align: middle;\n",
       "    }\n",
       "\n",
       "    .dataframe tbody tr th {\n",
       "        vertical-align: top;\n",
       "    }\n",
       "\n",
       "    .dataframe thead th {\n",
       "        text-align: right;\n",
       "    }\n",
       "</style>\n",
       "<table border=\"1\" class=\"dataframe\">\n",
       "  <thead>\n",
       "    <tr style=\"text-align: right;\">\n",
       "      <th></th>\n",
       "      <th>num_articles</th>\n",
       "    </tr>\n",
       "    <tr>\n",
       "      <th>source</th>\n",
       "      <th></th>\n",
       "    </tr>\n",
       "  </thead>\n",
       "  <tbody>\n",
       "    <tr>\n",
       "      <th>Sean Adl-tabatabai</th>\n",
       "      <td>2835</td>\n",
       "    </tr>\n",
       "    <tr>\n",
       "      <th>Neon Nettle</th>\n",
       "      <td>1399</td>\n",
       "    </tr>\n",
       "    <tr>\n",
       "      <th>Niamh Harris</th>\n",
       "      <td>1284</td>\n",
       "    </tr>\n",
       "    <tr>\n",
       "      <th>Baxter Dmitry</th>\n",
       "      <td>1157</td>\n",
       "    </tr>\n",
       "    <tr>\n",
       "      <th>Pol Pinoy</th>\n",
       "      <td>654</td>\n",
       "    </tr>\n",
       "  </tbody>\n",
       "</table>\n",
       "</div>"
      ],
      "text/plain": [
       "                    num_articles\n",
       "source                          \n",
       "Sean Adl-tabatabai          2835\n",
       "Neon Nettle                 1399\n",
       "Niamh Harris                1284\n",
       "Baxter Dmitry               1157\n",
       "Pol Pinoy                    654"
      ]
     },
     "execution_count": 32,
     "metadata": {},
     "output_type": "execute_result"
    }
   ],
   "source": [
    "# Top authors upon total articles\n",
    "df3 = data.groupby('source').size()\n",
    "\n",
    "# Sorting the data by descending amount of engagement\n",
    "final3 = df3.sort_values(ascending=False).to_frame().head(5)\n",
    "final3.columns = ['num_articles']\n",
    "final3.head(5)"
   ]
  },
  {
   "cell_type": "code",
   "execution_count": 33,
   "id": "e5a2de70",
   "metadata": {
    "scrolled": true
   },
   "outputs": [
    {
     "data": {
      "text/html": [
       "<div>\n",
       "<style scoped>\n",
       "    .dataframe tbody tr th:only-of-type {\n",
       "        vertical-align: middle;\n",
       "    }\n",
       "\n",
       "    .dataframe tbody tr th {\n",
       "        vertical-align: top;\n",
       "    }\n",
       "\n",
       "    .dataframe thead th {\n",
       "        text-align: right;\n",
       "    }\n",
       "</style>\n",
       "<table border=\"1\" class=\"dataframe\">\n",
       "  <thead>\n",
       "    <tr style=\"text-align: right;\">\n",
       "      <th></th>\n",
       "      <th>num_articles</th>\n",
       "    </tr>\n",
       "    <tr>\n",
       "      <th>category</th>\n",
       "      <th></th>\n",
       "    </tr>\n",
       "  </thead>\n",
       "  <tbody>\n",
       "    <tr>\n",
       "      <th>NaN</th>\n",
       "      <td>11814</td>\n",
       "    </tr>\n",
       "    <tr>\n",
       "      <th>Crime</th>\n",
       "      <td>21</td>\n",
       "    </tr>\n",
       "    <tr>\n",
       "      <th>Politics</th>\n",
       "      <td>10</td>\n",
       "    </tr>\n",
       "    <tr>\n",
       "      <th>Medical</th>\n",
       "      <td>6</td>\n",
       "    </tr>\n",
       "    <tr>\n",
       "      <th>Business</th>\n",
       "      <td>1</td>\n",
       "    </tr>\n",
       "  </tbody>\n",
       "</table>\n",
       "</div>"
      ],
      "text/plain": [
       "          num_articles\n",
       "category              \n",
       "NaN              11814\n",
       "Crime               21\n",
       "Politics            10\n",
       "Medical              6\n",
       "Business             1"
      ]
     },
     "execution_count": 33,
     "metadata": {},
     "output_type": "execute_result"
    }
   ],
   "source": [
    "# Top categories upon total articles\n",
    "df4 = data.groupby('category').size()\n",
    "\n",
    "# Sorting the data by descending amount of engagement\n",
    "final4 = df4.sort_values(ascending=False).to_frame().head(5)\n",
    "final4.columns = ['num_articles']\n",
    "final4.head(5)"
   ]
  },
  {
   "cell_type": "code",
   "execution_count": 36,
   "id": "c7a39f0e",
   "metadata": {},
   "outputs": [
    {
     "name": "stdout",
     "output_type": "stream",
     "text": [
      "Donald Trump was mentioned in 1646 out of 13961 entries.\n"
     ]
    }
   ],
   "source": [
    "# How many times Donald Trump was mentioned (my curiousity)\n",
    "df5 = data.loc[data['title'].str.contains(\"Donald|Trump\", case = False)==True]['title'].count()\n",
    "print(\"Donald Trump was mentioned in \" + str(df5) + \" out of \" + str(len(data)) + \" entries.\")"
   ]
  },
  {
   "cell_type": "code",
   "execution_count": null,
   "id": "8f31d77b",
   "metadata": {},
   "outputs": [],
   "source": []
  }
 ],
 "metadata": {
  "kernelspec": {
   "display_name": "Python 3 (ipykernel)",
   "language": "python",
   "name": "python3"
  },
  "language_info": {
   "codemirror_mode": {
    "name": "ipython",
    "version": 3
   },
   "file_extension": ".py",
   "mimetype": "text/x-python",
   "name": "python",
   "nbconvert_exporter": "python",
   "pygments_lexer": "ipython3",
   "version": "3.9.7"
  }
 },
 "nbformat": 4,
 "nbformat_minor": 5
}
